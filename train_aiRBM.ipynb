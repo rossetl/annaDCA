{
 "cells": [
  {
   "cell_type": "code",
   "execution_count": 1,
   "metadata": {},
   "outputs": [],
   "source": [
    "from pathlib import Path\n",
    "import numpy as np\n",
    "from itertools import cycle\n",
    "from tqdm.notebook import tqdm\n",
    "import torch\n",
    "from torch.optim import SGD\n",
    "import argparse\n",
    "import h5py\n",
    "\n",
    "from adabmDCA.utils import get_device\n",
    "\n",
    "from aiDCA.dataset import DatasetBin\n",
    "from aiDCA.dataset import DataLoader_shuffle as DataLoader\n",
    "from aiDCA.binary import aiRBMbin\n",
    "from aiDCA.binary.stats import get_freq_single_point\n",
    "from aiDCA.train import pcd"
   ]
  },
  {
   "cell_type": "code",
   "execution_count": 2,
   "metadata": {},
   "outputs": [],
   "source": [
    "args = {\n",
    "    \"data\" : \"/home/lorenzo/Documents/FeF_temp/example_data/MNIST_train.dat\",\n",
    "    \"output\" : \"/home/lorenzo/Documents/FeF_temp/models/MNIST\",\n",
    "    \"model\" : \"binary\",\n",
    "    \"annotations\" : \"/home/lorenzo/Documents/FeF_temp/example_data/MNIST_train_ann.csv\",\n",
    "    \"hidden\" : 100,\n",
    "    \"weights\" : \"/home/lorenzo/Documents/FeF_temp/models/MNIST/test_weights.dat\",\n",
    "    \"path_params\" : None,\n",
    "    \"path_chains\" : None,\n",
    "    \"label\" : \"test\",\n",
    "    \"lr\" : 0.01,\n",
    "    \"gibbs_steps\" : 10,\n",
    "    \"nchains\" : 2000,\n",
    "    \"nepochs\" : 1000,\n",
    "    \"pseudocount\" : 1e-6,\n",
    "    \"centered\" : True,\n",
    "    \"seed\" : 0,\n",
    "    \"device\" : \"cuda\",\n",
    "    \"dtype\" : torch.float32,\n",
    "}"
   ]
  },
  {
   "cell_type": "code",
   "execution_count": 3,
   "metadata": {},
   "outputs": [
    {
     "name": "stdout",
     "output_type": "stream",
     "text": [
      "Running on NVIDIA RTX A5000\n",
      "\n",
      "\n",
      "Input MSA:\t\t/home/lorenzo/Documents/FeF_temp/example_data/MNIST_train.dat\n",
      "Output folder:\t\t/home/lorenzo/Documents/FeF_temp/models/MNIST\n",
      "Learning rate:\t\t0.01\n",
      "Number of Gibbs Steps:\t10\n",
      "Pseudocount:\t\t1e-06\n",
      "Random seed:\t\t0\n",
      "\n",
      "\n"
     ]
    }
   ],
   "source": [
    "device = get_device(args[\"device\"])\n",
    "print(\"\\n\")\n",
    "print(f\"Input MSA:\\t\\t{args['data']}\")\n",
    "print(f\"Output folder:\\t\\t{args['output']}\")\n",
    "#print(f\"Alphabet:\\t\\t{args['alphabet']}\")\n",
    "print(f\"Learning rate:\\t\\t{args['lr']}\")\n",
    "print(f\"Number of Gibbs Steps:\\t{args['gibbs_steps']}\")\n",
    "if args['pseudocount'] is not None:\n",
    "    print(f\"Pseudocount:\\t\\t{args['pseudocount']}\")\n",
    "print(f\"Random seed:\\t\\t{args['seed']}\")\n",
    "print(\"\\n\")"
   ]
  },
  {
   "cell_type": "code",
   "execution_count": 4,
   "metadata": {},
   "outputs": [],
   "source": [
    "# Create the folder where to save the model\n",
    "folder = Path(args[\"output\"])\n",
    "folder.mkdir(parents=True, exist_ok=True)"
   ]
  },
  {
   "cell_type": "code",
   "execution_count": 5,
   "metadata": {},
   "outputs": [],
   "source": [
    "if args[\"label\"] is not None:\n",
    "    file_paths = {\n",
    "        \"log\" : folder / Path(f\"{args['label']}.log\"),\n",
    "        \"params\" : folder / Path(f\"{args['label']}_params.h5\"),\n",
    "        \"chains\" : folder / Path(f\"{args['label']}_chains.fasta\")\n",
    "        }\n",
    "    \n",
    "else:\n",
    "    file_paths = {\n",
    "        \"log\" : folder / Path(f\"adabmDCA.log\"),\n",
    "        \"params\" : folder / Path(f\"params.h5\"),\n",
    "        \"chains\" : folder / Path(f\"chains.fasta\")\n",
    "    }\n"
   ]
  },
  {
   "cell_type": "code",
   "execution_count": 6,
   "metadata": {},
   "outputs": [
    {
     "name": "stdout",
     "output_type": "stream",
     "text": [
      "Importing dataset...\n"
     ]
    }
   ],
   "source": [
    "# Import dataset\n",
    "print(\"Importing dataset...\")\n",
    "dataset = DatasetBin(\n",
    "    path_data=args[\"data\"],\n",
    "    path_weights=args[\"weights\"],\n",
    "    path_labels=args[\"annotations\"],\n",
    "    device=device,\n",
    ")"
   ]
  },
  {
   "cell_type": "code",
   "execution_count": 7,
   "metadata": {},
   "outputs": [],
   "source": [
    "rbm = aiRBMbin(\n",
    "    device=device,\n",
    "    dtype=args[\"dtype\"],\n",
    ")"
   ]
  },
  {
   "cell_type": "code",
   "execution_count": 8,
   "metadata": {},
   "outputs": [],
   "source": [
    "# Initialize parameters\n",
    "fi_visible = get_freq_single_point(\n",
    "    data=dataset.data,\n",
    "    weights=dataset.weights,\n",
    "    pseudo_count=args[\"pseudocount\"],\n",
    ")\n",
    "\n",
    "fi_label = get_freq_single_point(\n",
    "    data=dataset.labels_one_hot,\n",
    "    weights=dataset.weights,\n",
    "    pseudo_count=args[\"pseudocount\"],\n",
    ")\n",
    "\n",
    "rbm.init_parameters(\n",
    "    num_hiddens=args[\"hidden\"],\n",
    "    num_visibles=dataset.get_num_residues(),\n",
    "    num_labels=dataset.get_num_classes(),\n",
    "    frequencies_visibles=fi_visible,\n",
    "    frequencies_labels=fi_label,\n",
    "    std_init=1e-4,\n",
    "    device=device,\n",
    "    dtype=args[\"dtype\"],\n",
    ")\n",
    "\n",
    "rbm.params[\"lbias\"] = torch.zeros_like(rbm.params[\"lbias\"])\n",
    "rbm.params[\"label_matrix\"] = torch.zeros_like(rbm.params[\"label_matrix\"])"
   ]
  },
  {
   "cell_type": "code",
   "execution_count": 9,
   "metadata": {},
   "outputs": [],
   "source": [
    "# Save the weights if not already provided\n",
    "if args[\"weights\"] is None:\n",
    "    if args[\"label\"] is not None:\n",
    "        path_weights = folder / f\"{args[\"label\"]}_weights.dat\"\n",
    "    else:\n",
    "        path_weights = folder / \"weights.dat\"\n",
    "    np.savetxt(path_weights, dataset.weights.cpu().numpy())\n",
    "    print(f\"Weights saved in {path_weights}\")"
   ]
  },
  {
   "cell_type": "code",
   "execution_count": 10,
   "metadata": {},
   "outputs": [],
   "source": [
    "torch.manual_seed(args[\"seed\"])\n",
    "\n",
    "# Shouffle the dataset\n",
    "dataset.shuffle()"
   ]
  },
  {
   "cell_type": "code",
   "execution_count": 11,
   "metadata": {},
   "outputs": [],
   "source": [
    "if args[\"pseudocount\"] is None:\n",
    "    args[\"pseudocount\"] = 1 / dataset.get_effective_size()\n",
    "    print(f\"Pseudocount automatically set to {args[\"pseudocount\"]}.\")"
   ]
  },
  {
   "cell_type": "code",
   "execution_count": 12,
   "metadata": {},
   "outputs": [
    {
     "name": "stdout",
     "output_type": "stream",
     "text": [
      "Number of chains and minibatch size set to 2000.\n"
     ]
    }
   ],
   "source": [
    "# Initialize the chains\n",
    "print(f\"Number of chains and minibatch size set to {args[\"nchains\"]}.\")\n",
    "chains = rbm.init_chains(\n",
    "    num_samples=args[\"nchains\"],\n",
    ")"
   ]
  },
  {
   "cell_type": "code",
   "execution_count": 13,
   "metadata": {},
   "outputs": [],
   "source": [
    "# Initialize gradients for the parameters\n",
    "for key, value in rbm.params.items():\n",
    "    value.grad = torch.zeros_like(value)\n",
    "\n",
    "# Select the optimizer\n",
    "optimizer = SGD(rbm.params.values(), lr=args[\"lr\"])"
   ]
  },
  {
   "cell_type": "code",
   "execution_count": 14,
   "metadata": {},
   "outputs": [],
   "source": [
    "# Dataloader\n",
    "dataloader = DataLoader(\n",
    "    dataset,\n",
    "    batch_size=args[\"nchains\"],\n",
    "    shuffle=True,\n",
    "    drop_last=True,\n",
    ")\n",
    "# Allows to iterate indefinitely on the dataloader without worrying on the epochs\n",
    "dataloader = cycle(dataloader)"
   ]
  },
  {
   "cell_type": "code",
   "execution_count": 15,
   "metadata": {},
   "outputs": [],
   "source": [
    "# Save the hyperparameters of the model\n",
    "template = \"{0:20} {1:10}\\n\"  \n",
    "with open(file_paths[\"log\"], \"w\") as f:\n",
    "    if args[\"label\"] is not None:\n",
    "        f.write(template.format(\"label:\", args[\"label\"]))\n",
    "    else:\n",
    "        f.write(template.format(\"label:\", \"N/A\"))\n",
    "        \n",
    "    f.write(template.format(\"model:\", str(args[\"model\"])))\n",
    "    f.write(template.format(\"num hidden:\", args[\"hidden\"]))\n",
    "    f.write(template.format(\"input MSA:\", str(args[\"data\"])))\n",
    "    f.write(template.format(\"nchains:\", args[\"nchains\"]))\n",
    "    f.write(template.format(\"gibbs_steps:\", args[\"gibbs_steps\"]))\n",
    "    f.write(template.format(\"lr:\", args[\"lr\"]))\n",
    "    f.write(template.format(\"pseudo count:\", args[\"pseudocount\"]))\n",
    "    f.write(template.format(\"centered:\", args[\"centered\"]))\n",
    "    f.write(template.format(\"num epochs:\", args[\"nepochs\"]))\n",
    "    f.write(template.format(\"random seed:\", args[\"seed\"]))\n",
    "    f.write(\"\\n\")\n",
    "    #template = \"{0:10} {1:10} {2:10} {3:10} {4:10} {5:10} {6:10}\\n\"\n",
    "    #f.write(template.format(\"Epoch\", \"Pearson\", \"Slope\", \"LL\", \"Entropy\", \"Density\", \"Time [s]\"))"
   ]
  },
  {
   "cell_type": "code",
   "execution_count": 17,
   "metadata": {},
   "outputs": [
    {
     "data": {
      "application/vnd.jupyter.widget-view+json": {
       "model_id": "e9f6d239bbc8476dbc327e0388f94fdd",
       "version_major": 2,
       "version_minor": 0
      },
      "text/plain": [
       "  0%|          | 0/1000 [00:00<?, ?it/s]"
      ]
     },
     "metadata": {},
     "output_type": "display_data"
    }
   ],
   "source": [
    "# Training cycle\n",
    "pbar = tqdm(initial=0, total=args[\"nepochs\"], colour=\"red\", dynamic_ncols=True, ascii=\"-#\")\n",
    "upd = 0\n",
    "with torch.no_grad():\n",
    "    while upd < args[\"nepochs\"]:\n",
    "        \n",
    "        if upd % 10 == 0:\n",
    "            pbar.update(10)\n",
    "            \n",
    "        # Get the next batch\n",
    "        batch = next(dataloader)\n",
    "        optimizer.zero_grad(set_to_none=False)\n",
    "        chains = pcd(\n",
    "            rbm=rbm,\n",
    "            data_batch=batch,\n",
    "            chains=chains,\n",
    "            gibbs_steps=args[\"gibbs_steps\"],\n",
    "            pseudo_count=args[\"pseudocount\"],\n",
    "            centered=args[\"centered\"],\n",
    "        )\n",
    "        \n",
    "        # Update the parameters\n",
    "        optimizer.step()\n",
    "        \n",
    "        if upd % 100 == 0:\n",
    "            rbm.save(\n",
    "                filename=file_paths[\"params\"],\n",
    "                num_updates=upd,\n",
    "            )\n",
    "            rbm.save_chains(\n",
    "                filename=file_paths[\"chains\"],\n",
    "                visible=chains[\"visible\"],\n",
    "                label=chains[\"label\"],\n",
    "            )\n",
    "            \n",
    "        upd += 1\n"
   ]
  },
  {
   "cell_type": "code",
   "execution_count": 18,
   "metadata": {},
   "outputs": [
    {
     "data": {
      "image/png": "[encoded data removed]",
      "text/plain": [
       "<Figure size 1000x1000 with 25 Axes>"
      ]
     },
     "metadata": {},
     "output_type": "display_data"
    }
   ],
   "source": [
    "# Take the first 25 chains and plot the visible units in a 5x5 grid for visualizing the MNIST digits\n",
    "import matplotlib.pyplot as plt\n",
    "\n",
    "# Take the first 25 chains\n",
    "first_25_chains = chains['visible'][:25].cpu().numpy()\n",
    "\n",
    "# Plot the visible units in a 5x5 grid\n",
    "fig, axes = plt.subplots(5, 5, figsize=(10, 10))\n",
    "for i, ax in enumerate(axes.flat):\n",
    "    ax.imshow(first_25_chains[i].reshape(28, 28), cmap='gray')\n",
    "    ax.axis('off')\n",
    "\n",
    "plt.show()"
   ]
  },
  {
   "cell_type": "markdown",
   "metadata": {},
   "source": [
    "### Investigate the model"
   ]
  },
  {
   "cell_type": "code",
   "execution_count": 21,
   "metadata": {},
   "outputs": [],
   "source": [
    "from scipy.linalg import svd\n",
    "\n",
    "fname_model = \"/home/lorenzo/Documents/FeF_temp/models/MNIST/test_params.h5\"\n",
    "\n",
    "def get_eigenvalues_history(filename):\n",
    "    f = h5py.File(filename, 'r')\n",
    "    updates = []\n",
    "    eigenvalues = []\n",
    "    for key in f.keys():\n",
    "        if \"update\" in key:\n",
    "            weight_matrix = f[key][\"weight_matrix\"][()]\n",
    "            weight_matrix = weight_matrix.reshape(-1, weight_matrix.shape[-1])\n",
    "            eig = svd(weight_matrix, compute_uv=False)\n",
    "            eigenvalues.append(eig.reshape(*eig.shape, 1))\n",
    "            updates.append(int(key.split(\"_\")[1]))\n",
    "    \n",
    "    # Sort the results\n",
    "    sorting = np.argsort(updates)\n",
    "    updates = np.array(updates)[sorting]\n",
    "    eigenvalues = np.array(np.hstack(eigenvalues).T)[sorting]\n",
    "    f.close()\n",
    "            \n",
    "    return updates, eigenvalues"
   ]
  },
  {
   "cell_type": "code",
   "execution_count": 22,
   "metadata": {},
   "outputs": [
    {
     "data": {
      "image/png": "[encoded data removed]",
      "text/plain": [
       "<Figure size 600x300 with 1 Axes>"
      ]
     },
     "metadata": {},
     "output_type": "display_data"
    }
   ],
   "source": [
    "updates, eigenvalues = get_eigenvalues_history(fname_model)\n",
    "\n",
    "fig, ax = plt.subplots(dpi=100, nrows=1, ncols=1, figsize=(6, 3))\n",
    "ax.set_title('weight matrix eigenvalues', size=15)\n",
    "ax.set_xlabel('gradient updates')\n",
    "ax.set_ylabel('value')\n",
    "ax.set_xscale('log')\n",
    "ax.set_yscale('log')\n",
    "ax.grid(alpha=0.5, ls='dashed')\n",
    "ax.plot(updates, eigenvalues);"
   ]
  },
  {
   "cell_type": "code",
   "execution_count": 77,
   "metadata": {},
   "outputs": [],
   "source": [
    "w = rbm.params['weight_matrix'].detach().cpu().numpy()\n",
    "\n",
    "eig = svd(w, compute_uv=False)\n",
    "eig = eig.reshape(*eig.shape, 1)"
   ]
  },
  {
   "cell_type": "code",
   "execution_count": 78,
   "metadata": {},
   "outputs": [
    {
     "data": {
      "text/plain": [
       "[<matplotlib.lines.Line2D at 0x7522287f6b10>]"
      ]
     },
     "execution_count": 78,
     "metadata": {},
     "output_type": "execute_result"
    },
    {
     "data": {
      "image/png": "[encoded data removed]",
      "text/plain": [
       "<Figure size 640x480 with 1 Axes>"
      ]
     },
     "metadata": {},
     "output_type": "display_data"
    }
   ],
   "source": [
    "plt.plot(eig)"
   ]
  },
  {
   "cell_type": "code",
   "execution_count": 23,
   "metadata": {},
   "outputs": [],
   "source": [
    "from aiDCA.binary.stats import get_freq_single_point"
   ]
  },
  {
   "cell_type": "code",
   "execution_count": 58,
   "metadata": {},
   "outputs": [],
   "source": [
    "def _get_freq_single_point(\n",
    "    data: torch.Tensor,\n",
    "    weights: torch.Tensor | None,\n",
    "    pseudo_count: float = 0.0,\n",
    ") -> torch.Tensor:    \n",
    "    M = len(data)\n",
    "    if weights is not None:\n",
    "        norm_weights = weights.reshape(M, 1) / weights.sum()\n",
    "    else:\n",
    "        norm_weights = torch.ones((M, 1), device=data.device) / M\n",
    "\n",
    "    frequencies = (data.float() * norm_weights).sum(dim=0)\n",
    "\n",
    "    return (1. - pseudo_count) * frequencies + (pseudo_count / 2)"
   ]
  },
  {
   "cell_type": "code",
   "execution_count": 61,
   "metadata": {},
   "outputs": [
    {
     "data": {
      "image/png": "[encoded data removed]",
      "text/plain": [
       "<Figure size 640x480 with 1 Axes>"
      ]
     },
     "metadata": {},
     "output_type": "display_data"
    }
   ],
   "source": [
    "target = 1\n",
    "\n",
    "labels = dataset.labels_one_hot.argmax(dim=1)\n",
    "ones = dataset.data[labels == target]\n",
    "ones_weights = dataset.weights[labels == target]\n",
    "fi = _get_freq_single_point(ones, ones_weights, 1)\n",
    "\n",
    "fi.shape\n",
    "plt.imshow(fi.cpu().numpy().reshape(28, 28), cmap='gray')\n",
    "plt.axis('off')\n",
    "plt.show()"
   ]
  },
  {
   "cell_type": "code",
   "execution_count": null,
   "metadata": {},
   "outputs": [],
   "source": [
    "fi"
   ]
  }
 ],
 "metadata": {
  "kernelspec": {
   "display_name": "dca",
   "language": "python",
   "name": "python3"
  },
  "language_info": {
   "codemirror_mode": {
    "name": "ipython",
    "version": 3
   },
   "file_extension": ".py",
   "mimetype": "text/x-python",
   "name": "python",
   "nbconvert_exporter": "python",
   "pygments_lexer": "ipython3",
   "version": "3.12.3"
  }
 },
 "nbformat": 4,
 "nbformat_minor": 2
}
