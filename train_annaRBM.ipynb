{
 "cells": [
  {
   "cell_type": "code",
   "execution_count": null,
   "metadata": {},
   "outputs": [],
   "source": [
    "from pathlib import Path\n",
    "import numpy as np\n",
    "from itertools import cycle\n",
    "from tqdm.notebook import tqdm\n",
    "import torch\n",
    "from torch.optim import SGD\n",
    "import argparse\n",
    "import h5py\n",
    "import matplotlib.pyplot as plt\n",
    "\n",
    "from adabmDCA.utils import get_device\n",
    "from adabmDCA.stats import get_freq_single_point as get_freq_single_point_cat\n",
    "\n",
    "from annadca.binary.stats import get_freq_single_point as get_freq_single_point_bin\n",
    "from annadca.dataset import DatasetBin\n",
    "from annadca.dataset import DataLoader_shuffle as DataLoader\n",
    "from annadca import annaRBMbin\n",
    "from annadca.train import pcd"
   ]
  },
  {
   "cell_type": "code",
   "execution_count": 2,
   "metadata": {},
   "outputs": [],
   "source": [
    "data_path = \"/home/rosset/data/Test/MNIST/MNIST_train.dat\"\n",
    "weights_path = \"/home/rosset/data/Test/MNIST/MNIST_train_weights.dat\"\n",
    "output_folder = \"/home/rosset/models/MNIST\"\n",
    "annotations_path = \"/home/rosset/data/Test/MNIST/MNIST_train_ann.csv\"\n",
    "\n",
    "hidden = 100\n",
    "lr = 0.01\n",
    "gibbs_steps = 10\n",
    "nchains = 2000\n",
    "nepochs = 10000\n",
    "pseudocount = 1e-6\n",
    "centered = True\n",
    "seed = 0\n",
    "device = \"cuda\"\n",
    "dtype = torch.float32"
   ]
  },
  {
   "cell_type": "code",
   "execution_count": 3,
   "metadata": {},
   "outputs": [
    {
     "name": "stdout",
     "output_type": "stream",
     "text": [
      "Running on NVIDIA GeForce RTX 2080 Ti\n"
     ]
    }
   ],
   "source": [
    "device = get_device(device)"
   ]
  },
  {
   "cell_type": "code",
   "execution_count": 4,
   "metadata": {},
   "outputs": [
    {
     "name": "stdout",
     "output_type": "stream",
     "text": [
      "Dataset imported: M = 50000, L = 784, M_eff = 2.\n"
     ]
    }
   ],
   "source": [
    "# Import dataset\n",
    "dataset = DatasetBin(\n",
    "    path_data=data_path,\n",
    "    path_weights=weights_path,\n",
    "    path_labels=annotations_path,\n",
    "    device=device,\n",
    ")"
   ]
  },
  {
   "cell_type": "code",
   "execution_count": 5,
   "metadata": {},
   "outputs": [],
   "source": [
    "rbm = annaRBMbin(\n",
    "    device=device,\n",
    "    dtype=dtype,\n",
    ")"
   ]
  },
  {
   "cell_type": "code",
   "execution_count": 6,
   "metadata": {},
   "outputs": [],
   "source": [
    "# Initialize parameters\n",
    "fi_visible = get_freq_single_point_bin(\n",
    "    data=dataset.data,\n",
    "    weights=dataset.weights,\n",
    "    pseudo_count=pseudocount,\n",
    ")\n",
    "\n",
    "fi_label = get_freq_single_point_bin(\n",
    "    data=dataset.labels_one_hot,\n",
    "    weights=dataset.weights,\n",
    "    pseudo_count=pseudocount,\n",
    ")\n",
    "\n",
    "rbm.init_parameters(\n",
    "    num_hiddens=hidden,\n",
    "    num_visibles=dataset.get_num_residues(),\n",
    "    num_states=dataset.get_num_states(),\n",
    "    num_labels=dataset.get_num_classes(),\n",
    "    frequencies_visibles=fi_visible,\n",
    "    frequencies_labels=fi_label,\n",
    "    std_init=1e-6,\n",
    "    device=device,\n",
    "    dtype=dtype,\n",
    ")"
   ]
  },
  {
   "cell_type": "code",
   "execution_count": 7,
   "metadata": {},
   "outputs": [],
   "source": [
    "torch.manual_seed(seed)\n",
    "\n",
    "# Shouffle the dataset\n",
    "dataset.shuffle()"
   ]
  },
  {
   "cell_type": "code",
   "execution_count": 8,
   "metadata": {},
   "outputs": [],
   "source": [
    "if pseudocount is None:\n",
    "    pseudocount = 1 / dataset.get_effective_size()\n",
    "    print(f\"Pseudocount automatically set to {pseudocount}.\")"
   ]
  },
  {
   "cell_type": "code",
   "execution_count": 9,
   "metadata": {},
   "outputs": [],
   "source": [
    "# Initialize the chains\n",
    "chains = rbm.init_chains(\n",
    "    num_samples=nchains,\n",
    ")"
   ]
  },
  {
   "cell_type": "code",
   "execution_count": 10,
   "metadata": {},
   "outputs": [],
   "source": [
    "# Initialize gradients for the parameters\n",
    "for key, value in rbm.params.items():\n",
    "    value.grad = torch.zeros_like(value)\n",
    "\n",
    "# Select the optimizer\n",
    "optimizer = SGD(rbm.params.values(), lr=lr, maximize=True)"
   ]
  },
  {
   "cell_type": "code",
   "execution_count": 11,
   "metadata": {},
   "outputs": [],
   "source": [
    "# Dataloader\n",
    "dataloader = DataLoader(\n",
    "    dataset,\n",
    "    batch_size=nchains,\n",
    "    shuffle=True,\n",
    "    drop_last=True,\n",
    ")\n",
    "# Allows to iterate indefinitely on the dataloader without worrying on the epochs\n",
    "dataloader = cycle(dataloader)"
   ]
  },
  {
   "cell_type": "code",
   "execution_count": 12,
   "metadata": {},
   "outputs": [
    {
     "data": {
      "application/vnd.jupyter.widget-view+json": {
       "model_id": "290fedd778b74a798098c15729c2a727",
       "version_major": 2,
       "version_minor": 0
      },
      "text/plain": [
       "  0%|          | 0/10000 [00:00<?, ?it/s]"
      ]
     },
     "metadata": {},
     "output_type": "display_data"
    }
   ],
   "source": [
    "# Training cycle\n",
    "pbar = tqdm(initial=0, total=nepochs, colour=\"red\", dynamic_ncols=True, ascii=\"-#\")\n",
    "upd = 0\n",
    "with torch.no_grad():\n",
    "    while upd < nepochs:\n",
    "        upd += 1\n",
    "        if upd % 10 == 0:\n",
    "            pbar.update(10)\n",
    "            \n",
    "        # Get the next batch\n",
    "        batch = next(dataloader)\n",
    "        optimizer.zero_grad(set_to_none=False)\n",
    "        chains = pcd(\n",
    "            rbm=rbm,\n",
    "            data_batch=batch,\n",
    "            chains=chains,\n",
    "            gibbs_steps=gibbs_steps,\n",
    "            pseudo_count=pseudocount,\n",
    "            centered=centered,\n",
    "        )\n",
    "        \n",
    "        # Update the parameters\n",
    "        optimizer.step()\n"
   ]
  },
  {
   "cell_type": "code",
   "execution_count": 13,
   "metadata": {},
   "outputs": [
    {
     "data": {
      "image/png": "[encoded data removed]",
      "text/plain": [
       "<Figure size 1000x1000 with 25 Axes>"
      ]
     },
     "metadata": {},
     "output_type": "display_data"
    }
   ],
   "source": [
    "# Take the first 25 chains and plot the visible units in a 5x5 grid for visualizing the MNIST digits\n",
    "import matplotlib.pyplot as plt\n",
    "\n",
    "# Take the first 25 chains\n",
    "mh = rbm.sample_hiddens(**chains)[\"hidden_mag\"]\n",
    "mv = rbm.sample_visibles(**chains)[\"visible_mag\"]\n",
    "\n",
    "#l = rbm.sample_labels(**chains)[\"label_mag\"]\n",
    "l = chains[\"label\"]\n",
    "first_25_labels = dataset.to_label(l)[:25]\n",
    "first_25_chains = chains[\"visible\"][:25].cpu().numpy()\n",
    "\n",
    "\n",
    "# Plot the visible units in a 5x5 grid\n",
    "fig, axes = plt.subplots(5, 5, figsize=(10, 10))\n",
    "for i, ax in enumerate(axes.flat):\n",
    "    ax.imshow(first_25_chains[i].reshape(28, 28), cmap='gray')\n",
    "    ax.set_title(f\"Label: {first_25_labels[i]}\")\n",
    "    ax.axis('off')\n",
    "\n",
    "plt.show()"
   ]
  },
  {
   "cell_type": "markdown",
   "metadata": {},
   "source": [
    "### Sample from the model"
   ]
  },
  {
   "cell_type": "code",
   "execution_count": 14,
   "metadata": {},
   "outputs": [],
   "source": [
    "init_chains = rbm.init_chains(num_samples=10000)\n",
    "gen = rbm.sample(\n",
    "    gibbs_steps=100000,\n",
    "    **init_chains,\n",
    ")"
   ]
  },
  {
   "cell_type": "code",
   "execution_count": 15,
   "metadata": {},
   "outputs": [],
   "source": [
    "def mutual_info_labels(\n",
    "    chains: dict,\n",
    ") -> torch.Tensor:\n",
    "    nchains = len(chains[\"visible\"])\n",
    "    \n",
    "    fl = chains[\"label\"].mean(0)\n",
    "    fi = chains[\"visible\"].mean(0)\n",
    "    fil = chains[\"label\"].t() @ chains[\"visible\"] / nchains\n",
    "    Iil = fil * (torch.log(1e-8 + fil) - torch.log(1e-8 + (fl.unsqueeze(1) @ fi.unsqueeze(0))))\n",
    "    \n",
    "    return Iil"
   ]
  },
  {
   "cell_type": "code",
   "execution_count": 16,
   "metadata": {},
   "outputs": [
    {
     "data": {
      "image/png": "[encoded data removed]",
      "text/plain": [
       "<Figure size 1000x500 with 10 Axes>"
      ]
     },
     "metadata": {},
     "output_type": "display_data"
    }
   ],
   "source": [
    "Iil = mutual_info_labels(gen)\n",
    "\n",
    "# Plot an image of the mutual information between labels and chains for each label\n",
    "fig, axes = plt.subplots(2, 5, figsize=(10, 5))\n",
    "for i, ax in enumerate(axes.flat):\n",
    "    ax.imshow(Iil[i].cpu().numpy().reshape(28, 28), cmap='viridis')\n",
    "    ax.axis('off')\n",
    "    ax.set_title(i)"
   ]
  },
  {
   "cell_type": "markdown",
   "metadata": {},
   "source": [
    "### Save the model"
   ]
  },
  {
   "cell_type": "code",
   "execution_count": 19,
   "metadata": {},
   "outputs": [],
   "source": [
    "fname_out = \"/home/rosset/models/MNIST\"\n",
    "label = \"annaDCA\"\n",
    "\n",
    "fname_params = Path(fname_out) / f\"{label}_params.h5\"\n",
    "fname_chains = Path(fname_out) / f\"{label}_chains.fasta\"\n",
    "\n",
    "if fname_params.exists():\n",
    "    fname_params.unlink()\n",
    "    \n",
    "if fname_chains.exists():\n",
    "    fname_chains.unlink()\n",
    "\n",
    "rbm.save(\n",
    "    filename=fname_params,\n",
    "    num_updates=nepochs,\n",
    ")\n",
    "\n",
    "rbm.save_chains(\n",
    "    filename=fname_chains,\n",
    "    visible=chains[\"visible\"],\n",
    "    label=chains[\"label\"],\n",
    ")"
   ]
  },
  {
   "cell_type": "markdown",
   "metadata": {},
   "source": [
    "### Investigate the model"
   ]
  },
  {
   "cell_type": "code",
   "execution_count": 17,
   "metadata": {},
   "outputs": [],
   "source": [
    "from scipy.linalg import svd\n",
    "\n",
    "fname_model = \"/home/rosset/models/MNIST/\"\n",
    "\n",
    "def get_eigenvalues_history(filename):\n",
    "    f = h5py.File(filename, 'r')\n",
    "    updates = []\n",
    "    eigenvalues = []\n",
    "    for key in f.keys():\n",
    "        if \"update\" in key:\n",
    "            weight_matrix = f[key][\"weight_matrix\"][()]\n",
    "            weight_matrix = weight_matrix.reshape(-1, weight_matrix.shape[-1])\n",
    "            eig = svd(weight_matrix, compute_uv=False)\n",
    "            eigenvalues.append(eig.reshape(*eig.shape, 1))\n",
    "            updates.append(int(key.split(\"_\")[1]))\n",
    "    \n",
    "    # Sort the results\n",
    "    sorting = np.argsort(updates)\n",
    "    updates = np.array(updates)[sorting]\n",
    "    eigenvalues = np.array(np.hstack(eigenvalues).T)[sorting]\n",
    "    f.close()\n",
    "            \n",
    "    return updates, eigenvalues"
   ]
  }
 ],
 "metadata": {
  "kernelspec": {
   "display_name": "Python 3",
   "language": "python",
   "name": "python3"
  },
  "language_info": {
   "codemirror_mode": {
    "name": "ipython",
    "version": 3
   },
   "file_extension": ".py",
   "mimetype": "text/x-python",
   "name": "python",
   "nbconvert_exporter": "python",
   "pygments_lexer": "ipython3",
   "version": "3.11.7"
  }
 },
 "nbformat": 4,
 "nbformat_minor": 2
}
